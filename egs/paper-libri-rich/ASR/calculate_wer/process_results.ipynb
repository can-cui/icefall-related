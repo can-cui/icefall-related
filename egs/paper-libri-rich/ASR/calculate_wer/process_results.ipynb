{
 "cells": [
  {
   "cell_type": "code",
   "execution_count": 1,
   "metadata": {},
   "outputs": [],
   "source": [
    "import ast\n",
    "from jiwer import wer, cer\n",
    "import jiwer\n",
    "import Levenshtein as Lev\n",
    "import re\n",
    "import string\n",
    "import os"
   ]
  },
  {
   "cell_type": "code",
   "execution_count": 2,
   "metadata": {},
   "outputs": [],
   "source": [
    "def create_hyp_sentence_dictionary(filename,out_file):\n",
    "    # sentence_dict = {}\n",
    "    with open(out_file, \"w\") as out:\n",
    "        with open(filename, 'r') as file:\n",
    "            for line in file:\n",
    "                # Split the line by ':' to separate the ID and text\n",
    "                parts = line.split('=')\n",
    "                # print(parts[0].strip().split('-')[:3])\n",
    "                # print(parts[0][-3:])\n",
    "                # if len(parts) == 2 and parts[1][1:4]==\"hyp\":\n",
    "                if parts[0][-3:]==\"hyp\":\n",
    "                    # Extract the ID and text from the parts\n",
    "                    id = line.split(':')[0].strip().split('-')[:3]\n",
    "                    id ='-'.join(id)\n",
    "                    # print(id)\n",
    "                    # print(string_ref)\n",
    "                    start_index = line.find(\"[\")\n",
    "                    end_index = line.rfind(\"]\") + 1\n",
    "                    string_ref = line[start_index:end_index]\n",
    "                    text = ast.literal_eval(string_ref)\n",
    "                    text = ' '.join(text)\n",
    "                    # print(type(id))\n",
    "                    # sentence_dict[id] = text\n",
    "                    out.write(id + \",\" + text+ \"\\n\")\n",
    "    # return sentence_dict"
   ]
  },
  {
   "cell_type": "code",
   "execution_count": 3,
   "metadata": {},
   "outputs": [],
   "source": [
    "def process_folder(folder_path):\n",
    "    for root, dirs, files in os.walk(folder_path):\n",
    "        for file in files:\n",
    "            if \"cv\" in file:\n",
    "                subfile_path = os.path.join(root, file)\n",
    "                try:\n",
    "                    epo=file.split('-')[4]\n",
    "                    subname=file.split('-')[2]+\"-\" +epo+\".txt\"\n",
    "                except:\n",
    "                    continue\n",
    "                outfile=os.path.join(root, subname)\n",
    "                create_hyp_sentence_dictionary(subfile_path,outfile)"
   ]
  },
  {
   "cell_type": "code",
   "execution_count": 4,
   "metadata": {},
   "outputs": [],
   "source": [
    "process_folder(\"bert\")"
   ]
  },
  {
   "cell_type": "code",
   "execution_count": null,
   "metadata": {},
   "outputs": [],
   "source": []
  }
 ],
 "metadata": {
  "kernelspec": {
   "display_name": "base",
   "language": "python",
   "name": "python3"
  },
  "language_info": {
   "codemirror_mode": {
    "name": "ipython",
    "version": 3
   },
   "file_extension": ".py",
   "mimetype": "text/x-python",
   "name": "python",
   "nbconvert_exporter": "python",
   "pygments_lexer": "ipython3",
   "version": "3.9.7"
  },
  "orig_nbformat": 4
 },
 "nbformat": 4,
 "nbformat_minor": 2
}
